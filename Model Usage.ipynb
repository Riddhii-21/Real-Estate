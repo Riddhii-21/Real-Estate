{
 "cells": [
  {
   "cell_type": "markdown",
   "id": "2770180d-97ed-4736-a3d4-14f9f5892f66",
   "metadata": {},
   "source": [
    "## Using the model"
   ]
  },
  {
   "cell_type": "code",
   "execution_count": 13,
   "id": "cc2beec9-68f4-4695-9904-44593356c003",
   "metadata": {},
   "outputs": [
    {
     "data": {
      "text/plain": [
       "array([409500])"
      ]
     },
     "execution_count": 13,
     "metadata": {},
     "output_type": "execute_result"
    }
   ],
   "source": [
    "from joblib import dump,load\n",
    "import numpy as np\n",
    "model = load('Real_estate.joblib')\n",
    "features = np.array([[-0.57581615, -0.42657057,  0.80699513]])\n",
    "model.predict(features)\n"
   ]
  },
  {
   "cell_type": "code",
   "execution_count": null,
   "id": "a53a6d67-431c-4fc5-9590-e57d70ad7c89",
   "metadata": {},
   "outputs": [],
   "source": []
  }
 ],
 "metadata": {
  "kernelspec": {
   "display_name": "Python 3 (ipykernel)",
   "language": "python",
   "name": "python3"
  },
  "language_info": {
   "codemirror_mode": {
    "name": "ipython",
    "version": 3
   },
   "file_extension": ".py",
   "mimetype": "text/x-python",
   "name": "python",
   "nbconvert_exporter": "python",
   "pygments_lexer": "ipython3",
   "version": "3.9.13"
  }
 },
 "nbformat": 4,
 "nbformat_minor": 5
}
